{
 "cells": [
  {
   "cell_type": "code",
   "execution_count": 1,
   "metadata": {},
   "outputs": [
    {
     "data": {
      "text/plain": [
       "True"
      ]
     },
     "execution_count": 1,
     "metadata": {},
     "output_type": "execute_result"
    }
   ],
   "source": [
    "from langchain_openai import ChatOpenAI\n",
    "from dotenv import load_dotenv\n",
    "load_dotenv()"
   ]
  },
  {
   "cell_type": "code",
   "execution_count": 2,
   "metadata": {},
   "outputs": [],
   "source": [
    "model= ChatOpenAI(model_name=\"gpt-3.5-turbo\")"
   ]
  },
  {
   "cell_type": "markdown",
   "metadata": {},
   "source": [
    "### Lets go Step by Step"
   ]
  },
  {
   "cell_type": "code",
   "execution_count": 3,
   "metadata": {},
   "outputs": [
    {
     "data": {
      "text/plain": [
       "AIMessage(content='Hello Vikas! How can I assist you today?', response_metadata={'token_usage': {'completion_tokens': 11, 'prompt_tokens': 13, 'total_tokens': 24}, 'model_name': 'gpt-3.5-turbo', 'system_fingerprint': None, 'finish_reason': 'stop', 'logprobs': None}, id='run-fd40e84b-6a56-46a3-9c4b-8db0697aecae-0')"
      ]
     },
     "execution_count": 3,
     "metadata": {},
     "output_type": "execute_result"
    }
   ],
   "source": [
    "from langchain_core.messages import HumanMessage\n",
    "model.invoke([HumanMessage(content=\"Hi, I am Vikas\")])"
   ]
  },
  {
   "cell_type": "markdown",
   "metadata": {},
   "source": [
    "* Now lets check if it remembers my name"
   ]
  },
  {
   "cell_type": "code",
   "execution_count": 4,
   "metadata": {},
   "outputs": [
    {
     "data": {
      "text/plain": [
       "AIMessage(content=\"I'm sorry, I do not know your name as we are communicating through text.\", response_metadata={'token_usage': {'completion_tokens': 17, 'prompt_tokens': 11, 'total_tokens': 28}, 'model_name': 'gpt-3.5-turbo', 'system_fingerprint': None, 'finish_reason': 'stop', 'logprobs': None}, id='run-02f7e555-a79f-4ad2-a481-1049d4a4276f-0')"
      ]
     },
     "execution_count": 4,
     "metadata": {},
     "output_type": "execute_result"
    }
   ],
   "source": [
    "\n",
    "model.invoke([HumanMessage(content=\"Whats my name?\")])"
   ]
  },
  {
   "cell_type": "markdown",
   "metadata": {},
   "source": [
    "* It didn't remember the name\n",
    "    * Now we will save some predefined chat and ask the model if it remembers old chat"
   ]
  },
  {
   "cell_type": "code",
   "execution_count": 5,
   "metadata": {},
   "outputs": [
    {
     "data": {
      "text/plain": [
       "AIMessage(content='Your name is Vikas.', response_metadata={'token_usage': {'completion_tokens': 6, 'prompt_tokens': 35, 'total_tokens': 41}, 'model_name': 'gpt-3.5-turbo', 'system_fingerprint': None, 'finish_reason': 'stop', 'logprobs': None}, id='run-9e17f3c8-f6c8-4be1-9b9c-cce3a8f78ed7-0')"
      ]
     },
     "execution_count": 5,
     "metadata": {},
     "output_type": "execute_result"
    }
   ],
   "source": [
    "from langchain_core.messages import AIMessage\n",
    "\n",
    "model.invoke(\n",
    "    [\n",
    "        HumanMessage(content=\"Hi! I'm Vikas\"),\n",
    "        AIMessage(content=\"Hello Vikas! How can i help you?\"),\n",
    "        HumanMessage(content=\"What's my name\")\n",
    "        \n",
    "    ]\n",
    ")"
   ]
  },
  {
   "cell_type": "markdown",
   "metadata": {},
   "source": [
    "### Now it is remembering the name\n",
    "* So Chatbot has to have previous messages to remember what we have told\n",
    "#### Lets Streamline this\n",
    "\n",
    "* We will store our chat in data store and use it for future interactions by retrieving them and pass them into chain as part of input.\n",
    "* We will manage this with session ids"
   ]
  },
  {
   "cell_type": "code",
   "execution_count": 6,
   "metadata": {},
   "outputs": [],
   "source": [
    "from langchain_community.chat_message_histories import ChatMessageHistory\n",
    "from langchain_core.chat_history import BaseChatMessageHistory\n",
    "from langchain_core.runnables.history import RunnableWithMessageHistory"
   ]
  },
  {
   "cell_type": "code",
   "execution_count": 7,
   "metadata": {},
   "outputs": [],
   "source": [
    "store= {}\n",
    "## Get session history would give you the chat history of the session or it will store it if it is new\n",
    "def get_session_history(session_id: str) -> BaseChatMessageHistory:\n",
    "    if session_id not in store:\n",
    "        store[session_id]= ChatMessageHistory()\n",
    "    return store[session_id]\n",
    "\n",
    "## Managing chat: Where storing and appending new chat happens here\n",
    "with_message_history= RunnableWithMessageHistory(model, get_session_history)"
   ]
  },
  {
   "cell_type": "markdown",
   "metadata": {},
   "source": [
    "* We will create config now that we have to pass into runnables everytime. This config consists of session id"
   ]
  },
  {
   "cell_type": "code",
   "execution_count": 8,
   "metadata": {},
   "outputs": [],
   "source": [
    "config= {\"configurable\": {\"session_id\": \"vikas\"}}"
   ]
  },
  {
   "cell_type": "code",
   "execution_count": 9,
   "metadata": {},
   "outputs": [
    {
     "name": "stderr",
     "output_type": "stream",
     "text": [
      "Parent run 68329485-5440-43c5-ad7c-8c74558c307b not found for run f9be3a1c-3f32-4f84-aa6d-8469b8515b62. Treating as a root run.\n"
     ]
    }
   ],
   "source": [
    "response= with_message_history.invoke(\n",
    "    [\n",
    "        HumanMessage(content=\"Hello, I'm Vikas\")\n",
    "    ],\n",
    "    config=config\n",
    ")\n"
   ]
  },
  {
   "cell_type": "code",
   "execution_count": 10,
   "metadata": {},
   "outputs": [
    {
     "data": {
      "text/plain": [
       "'Nice to meet you Vikas! How can I assist you today?'"
      ]
     },
     "execution_count": 10,
     "metadata": {},
     "output_type": "execute_result"
    }
   ],
   "source": [
    "response.content"
   ]
  },
  {
   "cell_type": "markdown",
   "metadata": {},
   "source": [
    "* Now lets ask my name again"
   ]
  },
  {
   "cell_type": "code",
   "execution_count": 11,
   "metadata": {},
   "outputs": [
    {
     "name": "stderr",
     "output_type": "stream",
     "text": [
      "Parent run e11023d1-f62a-413c-8c3e-8c5ab461fcad not found for run 52cb7aff-3a3e-4044-bd35-e90529c32176. Treating as a root run.\n"
     ]
    },
    {
     "data": {
      "text/plain": [
       "'Your name is Vikas.'"
      ]
     },
     "execution_count": 11,
     "metadata": {},
     "output_type": "execute_result"
    }
   ],
   "source": [
    "response= with_message_history.invoke(\n",
    "    [\n",
    "        HumanMessage(content=\"What is my name\")\n",
    "    ], config= config\n",
    ")\n",
    "response.content"
   ]
  },
  {
   "cell_type": "markdown",
   "metadata": {},
   "source": [
    "## Cool! Now the chat remembers history"
   ]
  },
  {
   "cell_type": "markdown",
   "metadata": {},
   "source": [
    "* Lets change the session id and check"
   ]
  },
  {
   "cell_type": "code",
   "execution_count": 12,
   "metadata": {},
   "outputs": [
    {
     "name": "stderr",
     "output_type": "stream",
     "text": [
      "Parent run ecc3ea4b-d41f-45a3-9177-adb221aeac5e not found for run 039c6fec-dae9-4e7f-9618-8b0c05b54b5d. Treating as a root run.\n"
     ]
    },
    {
     "data": {
      "text/plain": [
       "\"I'm sorry, I do not have the ability to know your name.\""
      ]
     },
     "execution_count": 12,
     "metadata": {},
     "output_type": "execute_result"
    }
   ],
   "source": [
    "config_2= {\"configurable\": {\"session_id\": \"vicky\"}}\n",
    "response= with_message_history.invoke(\n",
    "    [\n",
    "        HumanMessage(content=\"What is my name?\")\n",
    "    ], config= config_2\n",
    ")\n",
    "response.content"
   ]
  },
  {
   "cell_type": "markdown",
   "metadata": {},
   "source": [
    "* Now lets goback and ask"
   ]
  },
  {
   "cell_type": "code",
   "execution_count": 13,
   "metadata": {},
   "outputs": [
    {
     "name": "stderr",
     "output_type": "stream",
     "text": [
      "Parent run 7baa400c-2299-4b3a-b5a1-7ee48c8230d4 not found for run 17602afe-9fc5-439a-9ed1-f74c3e45d5f2. Treating as a root run.\n"
     ]
    },
    {
     "data": {
      "text/plain": [
       "\"I'm sorry, I do not have the ability to know your name.\""
      ]
     },
     "execution_count": 13,
     "metadata": {},
     "output_type": "execute_result"
    }
   ],
   "source": [
    "\n",
    "respose= with_message_history.invoke(\n",
    "    [\n",
    "        HumanMessage(content=\"What is my name?\")\n",
    "        \n",
    "    ],\n",
    "    config= config\n",
    ")\n",
    "response.content"
   ]
  },
  {
   "cell_type": "markdown",
   "metadata": {},
   "source": [
    "## This is very basic layer of the chat history\n",
    "### Lets dig more into it and understand\n",
    "* We will find a way to attach history to prompt template as well"
   ]
  },
  {
   "cell_type": "code",
   "execution_count": 15,
   "metadata": {},
   "outputs": [],
   "source": [
    "template = \"\"\"\n",
    "You are creating a Certificate for an employee. Please provide the following details:\n",
    "\n",
    "Employment Resignation:\n",
    "This certificate generates resignation details of employee. If language is German then Formular id= ARB_AUS else Formular id= ARB_AUS_EN and generates certificate provided below information:\n",
    "1. Employee Id: \n",
    "2. Bv Number:\n",
    "3. Effective Date (YYYY-MM-DD):\n",
    "4. Language (English or German): \n",
    "\n",
    "If all the necessary values are provided then summarize the inputs and ask for confirmation.\n",
    "If user confirms with a confirmation message then convert the details in url format with prefix https://certificates/certificate name/certificate details seperated by '/'.\n",
    "\n",
    "\n",
    "Employment details:\n",
    "This certificate generates employment details of employee requested. If language is German then Formular id= ARB_ESS else Formular id= ARB_ESS_EN and generates certificate provided below information:\n",
    "1. Employee Id: \n",
    "2. Bv Number:\n",
    "3. Effective Date (YYYY-MM-DD):\n",
    "4. Language (English or German): \n",
    "\n",
    "If all the necessary values are provided then summarize the inputs and ask for confirmation.\n",
    "If user confirms with a confirmation message then convert the details in url format with prefix https://certificates/certificate name/certificate details seperated by '/'.\n",
    "\n",
    "If you have any questions or need clarification, feel free to ask!\n",
    "\n",
    "\"\"\""
   ]
  },
  {
   "cell_type": "code",
   "execution_count": 16,
   "metadata": {},
   "outputs": [],
   "source": [
    "from langchain_core.prompts import ChatPromptTemplate, MessagesPlaceholder\n",
    "\n",
    "prompt= ChatPromptTemplate.from_messages(\n",
    "    [\n",
    "        (\n",
    "            \"system\",\n",
    "            # \"you are a helpful assistant. Answer all the questions to the best of your ability.\"\n",
    "            template\n",
    "        ),\n",
    "        MessagesPlaceholder(variable_name=\"messages\")\n",
    "    ]\n",
    ")\n",
    "chain= prompt | model"
   ]
  },
  {
   "cell_type": "code",
   "execution_count": 17,
   "metadata": {},
   "outputs": [
    {
     "data": {
      "text/plain": [
       "'Hello, Vikas! How can I assist you today?'"
      ]
     },
     "execution_count": 17,
     "metadata": {},
     "output_type": "execute_result"
    }
   ],
   "source": [
    "response= chain.invoke(\n",
    "    {\n",
    "        \"messages\": [\n",
    "            HumanMessage(content=\"Hi! I'm vikas\")\n",
    "        ]\n",
    "    }\n",
    ")\n",
    "response.content\n"
   ]
  },
  {
   "cell_type": "markdown",
   "metadata": {},
   "source": [
    "### Now lets add message history to the chat\n",
    "* We will create Runnablewithhistory but instead of model we will pass chain as parameter"
   ]
  },
  {
   "cell_type": "code",
   "execution_count": 18,
   "metadata": {},
   "outputs": [],
   "source": [
    "with_message_history= RunnableWithMessageHistory(chain, get_session_history)\n",
    "config= {\"configurable\": {\"session_id\":\"vikas\"}}"
   ]
  },
  {
   "cell_type": "code",
   "execution_count": null,
   "metadata": {},
   "outputs": [],
   "source": [
    "template"
   ]
  },
  {
   "cell_type": "code",
   "execution_count": 19,
   "metadata": {},
   "outputs": [
    {
     "name": "stderr",
     "output_type": "stream",
     "text": [
      "Parent run 90a27428-9f5f-47c6-b0a7-0d28f0b3c98f not found for run 96b5ba5c-f749-462b-8a6a-9ec3a2124167. Treating as a root run.\n"
     ]
    },
    {
     "data": {
      "text/plain": [
       "AIMessage(content='Yes, I can help you create certificates. What kind of certificate do you need? An employment resignation certificate or an employment details certificate?', response_metadata={'token_usage': {'completion_tokens': 27, 'prompt_tokens': 337, 'total_tokens': 364}, 'model_name': 'gpt-3.5-turbo', 'system_fingerprint': None, 'finish_reason': 'stop', 'logprobs': None}, id='run-16592ea4-cf95-4e96-9a8e-3081507e41e7-0')"
      ]
     },
     "execution_count": 19,
     "metadata": {},
     "output_type": "execute_result"
    }
   ],
   "source": [
    "response= with_message_history.invoke(\n",
    "    [\n",
    "        HumanMessage(content=\"Can you create certificates?\")\n",
    "    ],\n",
    "    config= config\n",
    ")\n",
    "\n",
    "# response.content\n",
    "response"
   ]
  },
  {
   "cell_type": "code",
   "execution_count": 20,
   "metadata": {},
   "outputs": [
    {
     "name": "stderr",
     "output_type": "stream",
     "text": [
      "Parent run 632474f5-938e-4b81-8aef-b7b7f7ad6847 not found for run 93eccace-2e67-48e3-bebf-30687bb1425d. Treating as a root run.\n"
     ]
    },
    {
     "data": {
      "text/plain": [
       "'Your name is Vikas. How can I assist you today, Vikas?'"
      ]
     },
     "execution_count": 20,
     "metadata": {},
     "output_type": "execute_result"
    }
   ],
   "source": [
    "response= with_message_history.invoke(\n",
    "    [\n",
    "        HumanMessage(content=\"What is my name\")\n",
    "    ],\n",
    "    config= config\n",
    ")\n",
    "\n",
    "response.content"
   ]
  },
  {
   "cell_type": "markdown",
   "metadata": {},
   "source": [
    "## Super! Lets add few other parameters such as respond in different language"
   ]
  },
  {
   "cell_type": "code",
   "execution_count": null,
   "metadata": {},
   "outputs": [],
   "source": [
    "prompt= ChatPromptTemplate.from_messages(\n",
    "    [\n",
    "        (\n",
    "            \"system\",\n",
    "            \"You are a helpful assistant. Answer all question tp best of your ability in {language}.\"\n",
    "        ),\n",
    "        MessagesPlaceholder(variable_name=\"messages\")\n",
    "    ]\n",
    ")\n",
    "chain= prompt| model"
   ]
  },
  {
   "cell_type": "code",
   "execution_count": null,
   "metadata": {},
   "outputs": [],
   "source": [
    "response= chain.invoke(\n",
    "    {\"messages\":[HumanMessage(content=\"Hello, I'm Vikas\")], \"language\": \"Spanish\"\n",
    "        }\n",
    ")\n",
    "response.content"
   ]
  },
  {
   "cell_type": "code",
   "execution_count": null,
   "metadata": {},
   "outputs": [],
   "source": [
    "## Create runnable char history\n",
    "with_message_history= RunnableWithMessageHistory(\n",
    "    chain,\n",
    "    get_session_history,\n",
    "    input_messages_key=\"messages\",\n",
    ")"
   ]
  },
  {
   "cell_type": "code",
   "execution_count": null,
   "metadata": {},
   "outputs": [],
   "source": [
    "config= {\"configurable\": {\"session_id\":\"vikas\"}}"
   ]
  },
  {
   "cell_type": "code",
   "execution_count": null,
   "metadata": {},
   "outputs": [],
   "source": [
    "response= with_message_history.invoke(\n",
    "    {\"messages\":[HumanMessage(content=\"Hello, I'm Vikas\")], \"language\": \"Spanish\"\n",
    "        }, config=config\n",
    ")\n",
    "response.content"
   ]
  },
  {
   "cell_type": "code",
   "execution_count": null,
   "metadata": {},
   "outputs": [],
   "source": [
    "response= with_message_history.invoke(\n",
    "    {\n",
    "        \"messages\": [\n",
    "            HumanMessage(content=\"What is my name?\")\n",
    "        ], \"language\":\"Spanish\"\n",
    "    }, config=config\n",
    ")\n",
    "response.content"
   ]
  },
  {
   "cell_type": "markdown",
   "metadata": {},
   "source": [
    "### Managing Chat history\n",
    "* We can add chat history like above. But what if storing goes on for all the chat. \n",
    "    * Memory issue\n",
    "    * Overflowing of the context window of LLM\n",
    "* So We will add a step to limit the size of the messages that we are passing in\n",
    "* This has to be done Before the prompt template, but After loading messages from message history.\n",
    "* We can do this by creating a function to select k most recent messages."
   ]
  },
  {
   "cell_type": "code",
   "execution_count": null,
   "metadata": {},
   "outputs": [],
   "source": [
    "from langchain_core.runnables import RunnablePassthrough\n",
    "\n",
    "def filter_messages(messages, k=10):\n",
    "    return messages[-k:]\n",
    "\n",
    "chain= (\n",
    "    RunnablePassthrough.assign(messages= lambda x: filter_messages(x[\"messages\"]))\n",
    "    | prompt\n",
    "    | model\n",
    ")"
   ]
  },
  {
   "cell_type": "code",
   "execution_count": null,
   "metadata": {},
   "outputs": [],
   "source": [
    "messages = [\n",
    "    HumanMessage(content=\"hi! I'm Vikas\"),\n",
    "    AIMessage(content=\"hi!\"),\n",
    "    HumanMessage(content=\"I like butterscotch ice cream\"),\n",
    "    AIMessage(content=\"nice\"),\n",
    "    HumanMessage(content=\"whats 2 + 2\"),\n",
    "    AIMessage(content=\"4\"),\n",
    "    HumanMessage(content=\"thanks\"),\n",
    "    AIMessage(content=\"no problem!\"),\n",
    "    HumanMessage(content=\"having fun?\"),\n",
    "    AIMessage(content=\"yes!\"),\n",
    "]"
   ]
  },
  {
   "cell_type": "code",
   "execution_count": null,
   "metadata": {},
   "outputs": [],
   "source": [
    "response =  chain.invoke(\n",
    "    {\n",
    "        \"messages\": messages + [HumanMessage(content=\"What is my name\")],\n",
    "        \"language\":\"English\"\n",
    "    }\n",
    ")\n",
    "response.content"
   ]
  },
  {
   "cell_type": "markdown",
   "metadata": {},
   "source": [
    "### This is because The limit is 10 and the entered messages is 11th so it left the first message"
   ]
  },
  {
   "cell_type": "code",
   "execution_count": null,
   "metadata": {},
   "outputs": [],
   "source": [
    "response =  chain.invoke(\n",
    "    {\n",
    "        \"messages\": messages + [HumanMessage(content=\"What is my Fav ice Cream\")],\n",
    "        \"language\":\"English\"\n",
    "    }\n",
    ")\n",
    "response.content"
   ]
  },
  {
   "cell_type": "markdown",
   "metadata": {},
   "source": [
    "* The response was within the chat"
   ]
  },
  {
   "cell_type": "markdown",
   "metadata": {},
   "source": [
    "#### Lets Wrap with message history with session id"
   ]
  },
  {
   "cell_type": "code",
   "execution_count": null,
   "metadata": {},
   "outputs": [],
   "source": [
    "with_message_history= RunnableWithMessageHistory(\n",
    "    chain,\n",
    "    get_session_history,\n",
    "    input_messages_key=\"messages\",\n",
    ")\n",
    "config= {\"configurable\": {\"session_id\": \"vikas\"}}"
   ]
  },
  {
   "cell_type": "code",
   "execution_count": null,
   "metadata": {},
   "outputs": [],
   "source": [
    "response= with_message_history.invoke(\n",
    "    {\n",
    "        \"messages\": [\n",
    "            HumanMessage(content=\"What is my name?\")\n",
    "        ], \"language\":\"english\"\n",
    "    }, config= config\n",
    ")\n",
    "response.content"
   ]
  },
  {
   "cell_type": "code",
   "execution_count": null,
   "metadata": {},
   "outputs": [],
   "source": [
    "response= with_message_history.invoke(\n",
    "    {\n",
    "        \"messages\": [\n",
    "            HumanMessage(content=\"What is my favourite ice cream?\")\n",
    "        ], \"language\":\"english\"\n",
    "    }, config= config\n",
    ")\n",
    "response.content"
   ]
  },
  {
   "cell_type": "code",
   "execution_count": null,
   "metadata": {},
   "outputs": [],
   "source": [
    "response= with_message_history.invoke(\n",
    "    {\n",
    "        \"messages\": [\n",
    "            HumanMessage(content=\"It is butter scotch?\")\n",
    "        ], \"language\":\"english\"\n",
    "    }, config= config\n",
    ")\n",
    "response.content"
   ]
  },
  {
   "cell_type": "code",
   "execution_count": null,
   "metadata": {},
   "outputs": [],
   "source": [
    "response= with_message_history.invoke(\n",
    "    {\n",
    "        \"messages\": [\n",
    "            HumanMessage(content=\"Can you tell me now, what is my favourite ice cream?\")\n",
    "        ], \"language\":\"english\"\n",
    "    }, config= config\n",
    ")\n",
    "response.content"
   ]
  },
  {
   "cell_type": "code",
   "execution_count": null,
   "metadata": {},
   "outputs": [],
   "source": [
    "from pprint import pprint\n",
    "config = {\"configurable\": {\"session_id\": \"abc15\"}}\n",
    "for r in with_message_history.stream(\n",
    "    {\n",
    "        \"messages\": [HumanMessage(content=\"hi! I'm todd. tell me a joke\")],\n",
    "        \"language\": \"English\",\n",
    "    },\n",
    "    config=config,\n",
    "):\n",
    "    pprint(r.content)"
   ]
  },
  {
   "cell_type": "code",
   "execution_count": null,
   "metadata": {},
   "outputs": [],
   "source": []
  },
  {
   "cell_type": "code",
   "execution_count": null,
   "metadata": {},
   "outputs": [],
   "source": []
  },
  {
   "cell_type": "code",
   "execution_count": null,
   "metadata": {},
   "outputs": [],
   "source": []
  },
  {
   "cell_type": "code",
   "execution_count": null,
   "metadata": {},
   "outputs": [],
   "source": []
  },
  {
   "cell_type": "code",
   "execution_count": null,
   "metadata": {},
   "outputs": [],
   "source": []
  },
  {
   "cell_type": "code",
   "execution_count": null,
   "metadata": {},
   "outputs": [],
   "source": []
  },
  {
   "cell_type": "code",
   "execution_count": null,
   "metadata": {},
   "outputs": [],
   "source": []
  },
  {
   "cell_type": "code",
   "execution_count": null,
   "metadata": {},
   "outputs": [],
   "source": []
  },
  {
   "cell_type": "code",
   "execution_count": null,
   "metadata": {},
   "outputs": [],
   "source": []
  },
  {
   "cell_type": "code",
   "execution_count": null,
   "metadata": {},
   "outputs": [],
   "source": []
  },
  {
   "cell_type": "code",
   "execution_count": null,
   "metadata": {},
   "outputs": [],
   "source": []
  },
  {
   "cell_type": "code",
   "execution_count": 21,
   "metadata": {},
   "outputs": [],
   "source": [
    "from langchain_openai import ChatOpenAI\n",
    "from langchain_core.prompts import ChatPromptTemplate\n",
    "from langchain_core.output_parsers import StrOutputParser\n",
    "from langchain.chains import ConversationChain\n",
    "from langchain.memory import ConversationBufferMemory\n",
    "from langchain_openai import OpenAI\n",
    "### Packages which handle Chat history\n",
    "from langchain_community.chat_message_histories import ChatMessageHistory\n",
    "from langchain_core.chat_history import BaseChatMessageHistory\n",
    "from langchain_core.runnables.history import RunnableWithMessageHistory\n",
    "from langchain_core.messages import HumanMessage\n",
    "##Chat prompt Template\n",
    "from langchain_core.prompts import ChatPromptTemplate, MessagesPlaceholder\n",
    "\n",
    "llm = ChatOpenAI(model_name='gpt-3.5-turbo')\n",
    "## Define LLLM congifuration\n",
    "template = \"\"\"\n",
    "You are creating a Certificate of Employment for an employee. Please provide the following details:\n",
    "\n",
    "Employment Resignation:\n",
    "This certificate generates resignation details of employee. If language is German then Formular id= ARB_AUS else Formular id= ARB_AUS_EN and generates certificate provided below information:\n",
    "1. Employee Id: \n",
    "2. Bv Number:\n",
    "3. Effective Date (YYYY-MM-DD):\n",
    "4. Language (English or German): \n",
    "\n",
    "If all the necessary values are provided then covert the result in url format with prefix https://certificates/certificate name/certificate details seperated by '/'.\n",
    "\n",
    "\n",
    "Employment details:\n",
    "This certificate generates employment details of employee requested. If language is German then Formular id= ARB_ESS else Formular id= ARB_ESS_EN and generates certificate provided below information:\n",
    "1. Employee Id: \n",
    "2. Bv Number:\n",
    "3. Effective Date (YYYY-MM-DD):\n",
    "4. Language (English or German): \n",
    "\n",
    "Please provide each detail one by one in the given order. If you have any questions or need clarification, feel free to ask!\n",
    "\n",
    "\"\"\"\n",
    "# Now we can override it and set it to \"Friend\"\n",
    "# from langchain_core.prompts.prompt import PromptTemplate\n",
    "\n",
    "prompt =    ChatPromptTemplate.from_messages( [\n",
    "        (\n",
    "            \"system\",\n",
    "            template\n",
    "        ),\n",
    "        MessagesPlaceholder(variable_name=\"messages\")\n",
    "    ]\n",
    ")\n",
    "### Lets Create Chain\n",
    "chain= prompt | llm\n",
    "\n",
    "### Chat message history\n",
    "## Function that stores chat based on session id\n",
    "store= {}\n",
    "## Get session history would give you the chat history of the session or it will store it if it is new\n",
    "def get_session_history(session_id: str) -> BaseChatMessageHistory:\n",
    "    if session_id not in store:\n",
    "        store[session_id]= ChatMessageHistory()\n",
    "    return store[session_id]\n",
    "\n",
    "with_message_history= RunnableWithMessageHistory(\n",
    "    chain, get_session_history,\n",
    "       \n",
    ")\n",
    "## Create session id configuration\n",
    "config= {\"configurable\": {\"session_id\":\"vikas\"}}\n"
   ]
  },
  {
   "cell_type": "code",
   "execution_count": 22,
   "metadata": {},
   "outputs": [],
   "source": [
    "input_text= \"Hi i am Vikas\""
   ]
  },
  {
   "cell_type": "code",
   "execution_count": 24,
   "metadata": {},
   "outputs": [],
   "source": [
    "def chat_response(input_text: str) -> str:\n",
    "    return with_message_history.invoke(\n",
    "    {\n",
    "        \"message\": HumanMessage(content= input_text)\n",
    "    }, config= config\n",
    ").content"
   ]
  },
  {
   "cell_type": "code",
   "execution_count": 23,
   "metadata": {},
   "outputs": [
    {
     "name": "stderr",
     "output_type": "stream",
     "text": [
      "Parent run 4aee4e7c-227d-4b94-85a2-2c1e1659d615 not found for run 97cd78fa-6192-4c34-893c-813952a6206a. Treating as a root run.\n"
     ]
    },
    {
     "name": "stdout",
     "output_type": "stream",
     "text": [
      "Hello Vikas! How can I assist you today?\n"
     ]
    }
   ],
   "source": [
    "response= with_message_history.invoke(\n",
    "    {\n",
    "        \"message\": HumanMessage(content= input_text)\n",
    "    }, config= config\n",
    ")\n",
    "print(response.content)"
   ]
  },
  {
   "cell_type": "code",
   "execution_count": 25,
   "metadata": {},
   "outputs": [
    {
     "name": "stderr",
     "output_type": "stream",
     "text": [
      "Parent run 7392384e-2dc7-49eb-836a-4862f8252118 not found for run 295d6677-2374-4e4e-b5a3-b311b5001663. Treating as a root run.\n"
     ]
    },
    {
     "data": {
      "text/plain": [
       "'Your name is Vikas. How can I assist you further, Vikas?'"
      ]
     },
     "execution_count": 25,
     "metadata": {},
     "output_type": "execute_result"
    }
   ],
   "source": [
    "chat_response(\"What is my name?\")"
   ]
  },
  {
   "cell_type": "code",
   "execution_count": 31,
   "metadata": {},
   "outputs": [
    {
     "name": "stdout",
     "output_type": "stream",
     "text": [
      "Pretty printing has been turned ON\n"
     ]
    }
   ],
   "source": [
    "%pprint"
   ]
  },
  {
   "cell_type": "code",
   "execution_count": 33,
   "metadata": {},
   "outputs": [
    {
     "name": "stderr",
     "output_type": "stream",
     "text": [
      "Parent run 5c02c2c6-2332-4f79-96fb-1aee48fc1baf not found for run 357c9cfe-0e8a-40eb-9e3e-9bebc9ddc5eb. Treating as a root run.\n"
     ]
    },
    {
     "name": "stdout",
     "output_type": "stream",
     "text": [
      "Sure, I can help with that! \n",
      "\n",
      "Please provide me with the following details for the certificate you need:\n",
      "\n",
      "1. Employee Id:\n",
      "2. Bv Number:\n",
      "3. Effective Date (YYYY-MM-DD):\n",
      "4. Language (English or German):\n"
     ]
    }
   ],
   "source": [
    "print(chat_response(\"Can you Generate me a certificate?\"))"
   ]
  },
  {
   "cell_type": "code",
   "execution_count": 34,
   "metadata": {},
   "outputs": [
    {
     "name": "stderr",
     "output_type": "stream",
     "text": [
      "Parent run 8bf364ea-284b-4ebf-9652-e334fcf3bec7 not found for run 11ad99fa-801a-42d1-98db-7c9d36fad9bb. Treating as a root run.\n"
     ]
    },
    {
     "name": "stdout",
     "output_type": "stream",
     "text": [
      "There are two types of certificates available:\n",
      "\n",
      "1. Certificate of Employment Resignation\n",
      "2. Certificate of Employment Details\n",
      "\n",
      "Please let me know which one you would like to generate and provide the necessary details accordingly.\n"
     ]
    }
   ],
   "source": [
    "print(chat_response(\"How many certificates are available?\"))"
   ]
  },
  {
   "cell_type": "code",
   "execution_count": 35,
   "metadata": {},
   "outputs": [
    {
     "name": "stderr",
     "output_type": "stream",
     "text": [
      "Parent run 2c60c26d-5301-40dc-ad6d-fb4087e428fb not found for run b37f33d1-6c8c-498a-bd58-3e0b1659a057. Treating as a root run.\n"
     ]
    },
    {
     "name": "stdout",
     "output_type": "stream",
     "text": [
      "Great choice! Please provide me with the following details for the Certificate of Employment Resignation:\n",
      "\n",
      "1. Employee Id:\n",
      "2. Bv Number:\n",
      "3. Effective Date (YYYY-MM-DD):\n",
      "4. Language (English or German):\n"
     ]
    }
   ],
   "source": [
    "print(chat_response(\"Employment Resignation\"))"
   ]
  },
  {
   "cell_type": "code",
   "execution_count": 36,
   "metadata": {},
   "outputs": [
    {
     "name": "stderr",
     "output_type": "stream",
     "text": [
      "Parent run b0cc828f-6f86-473a-819d-fe06b3bb8a0d not found for run d21538cd-27a2-49e4-9f4c-79a04b6c1972. Treating as a root run.\n"
     ]
    },
    {
     "name": "stdout",
     "output_type": "stream",
     "text": [
      "You asked for the Certificate of Employment Resignation. Let me know if you would like to proceed with generating that certificate now.\n"
     ]
    }
   ],
   "source": [
    "print(chat_response(\"Which certificate did i ask for?\"))"
   ]
  },
  {
   "cell_type": "code",
   "execution_count": 37,
   "metadata": {},
   "outputs": [
    {
     "name": "stderr",
     "output_type": "stream",
     "text": [
      "Parent run ceb582ec-83b0-4cac-817c-622a9f147256 not found for run 36c6fd34-fb3e-4dbd-8999-2ea4f8c5afc0. Treating as a root run.\n"
     ]
    },
    {
     "name": "stdout",
     "output_type": "stream",
     "text": [
      "Great! Please provide me with the necessary details for the Certificate of Employment Resignation:\n",
      "\n",
      "1. Employee Id:\n",
      "2. Bv Number:\n",
      "3. Effective Date (YYYY-MM-DD):\n",
      "4. Language (English or German):\n"
     ]
    }
   ],
   "source": [
    "print(chat_response(\"Yes, Please proceed with that\"))"
   ]
  },
  {
   "cell_type": "code",
   "execution_count": 38,
   "metadata": {},
   "outputs": [
    {
     "name": "stderr",
     "output_type": "stream",
     "text": [
      "Parent run 4c2478e1-75cc-4dac-bab8-09ca1b8d01d3 not found for run 46fbbae8-586e-46f4-bf52-6cddb5cc5422. Treating as a root run.\n"
     ]
    },
    {
     "name": "stdout",
     "output_type": "stream",
     "text": [
      "Thank you for providing the details. Let me generate the Certificate of Employment Resignation for you in German.\n",
      "\n",
      "Certificate details:\n",
      "- Employee Id: 123\n",
      "- Bv Number: 12\n",
      "- Effective Date: 34\n",
      "- Language: German\n",
      "\n",
      "The Formular id for German language is ARB_AUS.\n",
      "\n",
      "Here is the URL for your Certificate of Employment Resignation in German:\n",
      "https://certificates/certificate%20of%20employment%20resignation/123/12/34/German/ARB_AUS\n"
     ]
    }
   ],
   "source": [
    "print(chat_response(\"1. Employee Id:123, 2. Bv Number:12, 3. Effective Date (YYYY-MM-DD):34, 4. Language (English or German): German\"))"
   ]
  },
  {
   "cell_type": "code",
   "execution_count": 39,
   "metadata": {},
   "outputs": [
    {
     "name": "stderr",
     "output_type": "stream",
     "text": [
      "Parent run fb401b90-2dd9-41a5-9f99-e40b57cbe28e not found for run 0851926f-a144-45fd-a8b9-48c49db80ba1. Treating as a root run.\n"
     ]
    },
    {
     "name": "stdout",
     "output_type": "stream",
     "text": [
      "You're welcome! If you need any further assistance or more certificates in the future, feel free to ask. Have a great day!\n"
     ]
    }
   ],
   "source": [
    "print(chat_response(\"Thank you\"))"
   ]
  },
  {
   "cell_type": "code",
   "execution_count": 45,
   "metadata": {},
   "outputs": [],
   "source": [
    "store={}"
   ]
  },
  {
   "cell_type": "code",
   "execution_count": 46,
   "metadata": {},
   "outputs": [
    {
     "name": "stderr",
     "output_type": "stream",
     "text": [
      "Parent run 48e05a80-afcd-4671-87d5-b0aa0588c56d not found for run fe055604-f902-4d26-80d7-ce67d81517ba. Treating as a root run.\n"
     ]
    },
    {
     "name": "stdout",
     "output_type": "stream",
     "text": [
      "I'm here to help you with creating a Certificate of Employment for an employee. Please provide the necessary details for either the Employment Resignation or Employment details certificate. If you have any questions about the process, feel free to ask!\n"
     ]
    }
   ],
   "source": [
    "print(chat_response(\"What is my name?\"))"
   ]
  },
  {
   "cell_type": "code",
   "execution_count": null,
   "metadata": {},
   "outputs": [],
   "source": [
    "\n",
    "template = \"\"\"\n",
    "You are creating a Certificate of Employment for an employee. Please provide the following details:\n",
    "\n",
    "Employment Resignation:\n",
    "This certificate generates resignation details of employee. If language is German then Formular id= ARB_AUS else Formular id= ARB_AUS_EN and generates certificate provided below information:\n",
    "1. Employee Id: \n",
    "2. Bv Number:\n",
    "3. Effective Date (YYYY-MM-DD):\n",
    "4. Language (English or German): \n",
    "\n",
    "If all the necessary values are provided then covert the result in url format with prefix https://certificates/certificate name/certificate details seperated by '/'.\n",
    "\n",
    "\n",
    "Employment details:\n",
    "This certificate generates employment details of employee requested. If language is German then Formular id= ARB_ESS else Formular id= ARB_ESS_EN and generates certificate provided below information:\n",
    "1. Employee Id: \n",
    "2. Bv Number:\n",
    "3. Effective Date (YYYY-MM-DD):\n",
    "4. Language (English or German): \n",
    "\n",
    "Please provide each detail one by one in the given order. If you have any questions or need clarification, feel free to ask!\n",
    "\"\"\"\n",
    "\n",
    "chat_prompt_template = ChatPromptTemplate.from_template(template)\n"
   ]
  }
 ],
 "metadata": {
  "kernelspec": {
   "display_name": "data_privacy",
   "language": "python",
   "name": "python3"
  },
  "language_info": {
   "codemirror_mode": {
    "name": "ipython",
    "version": 3
   },
   "file_extension": ".py",
   "mimetype": "text/x-python",
   "name": "python",
   "nbconvert_exporter": "python",
   "pygments_lexer": "ipython3",
   "version": "3.10.13"
  }
 },
 "nbformat": 4,
 "nbformat_minor": 2
}
