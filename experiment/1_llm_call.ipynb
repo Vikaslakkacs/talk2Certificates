{
 "cells": [
  {
   "cell_type": "markdown",
   "metadata": {},
   "source": [
    "## Start with sample chain"
   ]
  },
  {
   "cell_type": "code",
   "execution_count": 2,
   "metadata": {},
   "outputs": [],
   "source": [
    "from langchain_openai import ChatOpenAI\n",
    "from langchain_core.prompts import ChatPromptTemplate\n",
    "from langchain_core.output_parsers import StrOutputParser"
   ]
  },
  {
   "cell_type": "code",
   "execution_count": 3,
   "metadata": {},
   "outputs": [],
   "source": [
    "from pprint import pprint"
   ]
  },
  {
   "cell_type": "code",
   "execution_count": 4,
   "metadata": {},
   "outputs": [],
   "source": [
    "llm= ChatOpenAI(model_name='gpt-3.5-turbo')\n",
    "prompt= ChatPromptTemplate.from_messages(\n",
    "    [\n",
    "        (\"system\", \"you are a World class prompt creator for Gen AI applications. You will create prompts for requested use case and provide example for that prompyt\"),\n",
    "        (\"user\", \"{input}\")\n",
    "    ]\n",
    ")\n",
    "output_parser= StrOutputParser()\n",
    "chain= prompt | llm | output_parser"
   ]
  },
  {
   "cell_type": "code",
   "execution_count": 11,
   "metadata": {},
   "outputs": [],
   "source": [
    "from langchain.prompts import ChatPromptTemplate\n",
    "llm= ChatOpenAI(model_name='gpt-3.5-turbo')\n",
    "template = \"\"\"\n",
    "You are collecting details to create certificate mentioned below along with the list of details required from user\n",
    "when a particular certificate details are asked then you have to respond the details required\n",
    "to generate the certificate.\n",
    "\n",
    "Below are the types of certificates\n",
    "\n",
    "Employee certificate:\n",
    "1. Full Name:\n",
    "2. Position/Job Title:\n",
    "3. Department:\n",
    "4. Date of Joining (YYYY-MM-DD):\n",
    "5. Employee ID:\n",
    "\n",
    "Company certificate:\n",
    "6. Company Name:\n",
    "7. Company Address:\n",
    "8. Company Contact Information:\n",
    "   - Phone:\n",
    "   - Email:\n",
    "\n",
    "insurance certificate:\n",
    "9. Date of Issuance (YYYY-MM-DD):\n",
    "10. Purpose of Certificate (e.g., for bank loan, visa application, etc.):\n",
    "11. Additional Information (if any):\n",
    "\n",
    "Authorized certificate:\n",
    "12. Name:\n",
    "13. Position:\n",
    "14. Signature (if applicable):\n",
    "\n",
    "\n",
    "Please provide each detail one by one in the given order. If you have any questions or need clarification, feel free to ask!\n",
    "\"\"\"\n",
    "\n",
    "chat_prompt_template = ChatPromptTemplate.from_template(template)\n",
    "output_parser= StrOutputParser()\n",
    "chain= chat_prompt_template | llm | output_parser\n"
   ]
  },
  {
   "cell_type": "code",
   "execution_count": 15,
   "metadata": {},
   "outputs": [
    {
     "name": "stdout",
     "output_type": "stream",
     "text": [
      "('Sure! Please provide the following details for the Employee certificate:\\n'\n",
      " '\\n'\n",
      " '1. Full Name: \\n'\n",
      " '2. Position/Job Title: \\n'\n",
      " '3. Department: \\n'\n",
      " '4. Date of Joining (YYYY-MM-DD): \\n'\n",
      " '5. Employee ID:')\n"
     ]
    }
   ],
   "source": [
    "pprint(chain.invoke({\"input\": \"I want to company Employee certificate, Can you list what are the details required?\"}))"
   ]
  },
  {
   "cell_type": "code",
   "execution_count": null,
   "metadata": {},
   "outputs": [],
   "source": []
  },
  {
   "cell_type": "code",
   "execution_count": null,
   "metadata": {},
   "outputs": [],
   "source": []
  },
  {
   "cell_type": "code",
   "execution_count": 17,
   "metadata": {},
   "outputs": [],
   "source": [
    "from langchain.chains import ConversationChain\n",
    "from langchain.memory import ConversationBufferMemory\n",
    "from langchain_openai import OpenAI\n",
    "\n",
    "llm = OpenAI(temperature=0)"
   ]
  },
  {
   "cell_type": "code",
   "execution_count": 66,
   "metadata": {},
   "outputs": [],
   "source": [
    "template = \"\"\"\n",
    "You are collecting details to create certificate mentioned below along with the list of details required from user\n",
    "when a particular certificate details are asked then you have to respond the details required\n",
    "to generate the certificate.\n",
    "\n",
    "Below are the types of certificates\n",
    "\n",
    "Employee certificate:\n",
    "1. Full Name:\n",
    "2. Position/Job Title:\n",
    "3. Department:\n",
    "4. Date of Joining (YYYY-MM-DD):\n",
    "5. Employee ID:\n",
    "\n",
    "Company certificate:\n",
    "6. Company Name:\n",
    "7. Company Address:\n",
    "8. Company Contact Information:\n",
    "   - Phone:\n",
    "   - Email:\n",
    "\n",
    "insurance certificate:\n",
    "9. Date of Issuance (YYYY-MM-DD):\n",
    "10. Purpose of Certificate (e.g., for bank loan, visa application, etc.):\n",
    "11. Additional Information (if any):\n",
    "\n",
    "Authorized certificate:\n",
    "12. Name:\n",
    "13. Position:\n",
    "14. Signature (if applicable):\n",
    "\n",
    "Kindly follow below rules when conversing with the user:\n",
    "1. Kindly ask which certificate is needed to generate.\n",
    "2. Provide list of details that are required when a certificate is mentioned and add human touch when providing.\n",
    "3. If all the details are not provided kindly ask to provide all the details untill they provide everything related to certificate.\n",
    "4. Provide him the summary of provided inputs and ask for remaining if there are any pending values that are required.\n",
    "If all the necessary values are provided then covert the result in json format.\n",
    "\n",
    "Please provide each detail one by one in the given order. If you have any questions or need clarification, feel free to ask!\n",
    "\n",
    "Current conversation:\n",
    "{history}\n",
    "Friend: {input}\n",
    "AI:\n",
    "\"\"\"\n"
   ]
  },
  {
   "cell_type": "code",
   "execution_count": 67,
   "metadata": {},
   "outputs": [],
   "source": [
    "# Now we can override it and set it to \"Friend\"\n",
    "from langchain_core.prompts.prompt import PromptTemplate\n",
    "\n",
    "'''template = \"\"\"The following is a friendly conversation between a human and an AI. The AI is talkative and provides lots of specific details from its context. If the AI does not know the answer to a question, it truthfully says it does not know.\n",
    "\n",
    "Current conversation:\n",
    "{history}\n",
    "Friend: {input}\n",
    "AI:\"\"\"'''\n",
    "PROMPT = PromptTemplate(input_variables=[\"history\", \"input\"], template=template)\n",
    "conversation = ConversationChain(\n",
    "    prompt=PROMPT,\n",
    "    llm=llm,\n",
    "    verbose=False,\n",
    "    memory=ConversationBufferMemory(ai_prefix=\"AI Assistan\"),\n",
    ")"
   ]
  },
  {
   "cell_type": "code",
   "execution_count": 68,
   "metadata": {},
   "outputs": [
    {
     "data": {
      "text/plain": [
       "'Hi there! Which certificate do you need to generate?'"
      ]
     },
     "execution_count": 68,
     "metadata": {},
     "output_type": "execute_result"
    }
   ],
   "source": [
    "conversation.predict(input=\"Hi there!\")"
   ]
  },
  {
   "cell_type": "code",
   "execution_count": 69,
   "metadata": {},
   "outputs": [
    {
     "data": {
      "text/plain": [
       "'\\nWhich certificate do you need to generate? There are four types of certificates available: Employee certificate, Company certificate, Insurance certificate, and Authorized certificate. Please let me know which one you need and I will provide you with the list of details required to generate it.'"
      ]
     },
     "execution_count": 69,
     "metadata": {},
     "output_type": "execute_result"
    }
   ],
   "source": [
    "pprint(conversation.predict(input=\"I want to generate certificate\"))"
   ]
  },
  {
   "cell_type": "code",
   "execution_count": 70,
   "metadata": {},
   "outputs": [
    {
     "name": "stdout",
     "output_type": "stream",
     "text": [
      "('There are four types of certificates available: Employee certificate, '\n",
      " 'Company certificate, Insurance certificate, and Authorized certificate. '\n",
      " 'Please let me know which one you need and I will provide you with the list '\n",
      " 'of details required to generate it.')\n"
     ]
    }
   ],
   "source": [
    "pprint(conversation.predict(input=\"What are the available certificates?\"))"
   ]
  },
  {
   "cell_type": "code",
   "execution_count": 71,
   "metadata": {},
   "outputs": [
    {
     "name": "stdout",
     "output_type": "stream",
     "text": [
      "('To generate an Employee certificate, I will need the following details from '\n",
      " 'you:\\n'\n",
      " '1. Full Name\\n'\n",
      " '2. Position/Job Title\\n'\n",
      " '3. Department\\n'\n",
      " '4. Date of Joining (YYYY-MM-DD)\\n'\n",
      " '5. Employee ID\\n'\n",
      " 'Please provide each detail one by one in the given order. If you have any '\n",
      " 'questions or need clarification, feel free to ask!')\n"
     ]
    }
   ],
   "source": [
    "pprint(conversation.predict(input=\"I want to generate Employee certificate\"))"
   ]
  },
  {
   "cell_type": "code",
   "execution_count": 72,
   "metadata": {},
   "outputs": [
    {
     "name": "stdout",
     "output_type": "stream",
     "text": [
      "('I have the following details so far:\\n'\n",
      " '1. Full Name: Vikas\\n'\n",
      " '2. Department: IG\\n'\n",
      " 'Please provide the remaining details in the given order:\\n'\n",
      " '1. Position/Job Title\\n'\n",
      " '2. Date of Joining (YYYY-MM-DD)\\n'\n",
      " '3. Employee ID')\n"
     ]
    }
   ],
   "source": [
    "pprint(conversation.predict(input=\"Name of the employee is Vikas and Department is IG\"))"
   ]
  },
  {
   "cell_type": "code",
   "execution_count": 73,
   "metadata": {},
   "outputs": [
    {
     "name": "stdout",
     "output_type": "stream",
     "text": [
      "('I have the following details so far:\\n'\n",
      " '1. Full Name: Vikas\\n'\n",
      " '2. Position/Job Title: Software Engineer\\n'\n",
      " '3. Department: IG\\n'\n",
      " 'Please provide the remaining details in the given order:\\n'\n",
      " '1. Date of Joining (YYYY-MM-DD)\\n'\n",
      " '2. Employee ID')\n"
     ]
    }
   ],
   "source": [
    "pprint(conversation.predict(input=\"Position is software engineer\"))"
   ]
  },
  {
   "cell_type": "code",
   "execution_count": null,
   "metadata": {},
   "outputs": [],
   "source": []
  }
 ],
 "metadata": {
  "kernelspec": {
   "display_name": "data_privacy",
   "language": "python",
   "name": "python3"
  },
  "language_info": {
   "codemirror_mode": {
    "name": "ipython",
    "version": 3
   },
   "file_extension": ".py",
   "mimetype": "text/x-python",
   "name": "python",
   "nbconvert_exporter": "python",
   "pygments_lexer": "ipython3",
   "version": "3.10.13"
  }
 },
 "nbformat": 4,
 "nbformat_minor": 2
}
