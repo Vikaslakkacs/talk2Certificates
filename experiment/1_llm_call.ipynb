{
 "cells": [
  {
   "cell_type": "markdown",
   "metadata": {},
   "source": [
    "## Start with sample chain"
   ]
  },
  {
   "cell_type": "code",
   "execution_count": null,
   "metadata": {},
   "outputs": [],
   "source": [
    "from langchain_openai import ChatOpenAI\n",
    "from langchain_core.prompts import ChatPromptTemplate\n",
    "from langchain_core.output_parsers import StrOutputParser"
   ]
  },
  {
   "cell_type": "code",
   "execution_count": null,
   "metadata": {},
   "outputs": [],
   "source": [
    "from dotenv import load_dotenv\n",
    "load_dotenv()"
   ]
  },
  {
   "cell_type": "code",
   "execution_count": null,
   "metadata": {},
   "outputs": [],
   "source": [
    "from pprint import pprint"
   ]
  },
  {
   "cell_type": "code",
   "execution_count": null,
   "metadata": {},
   "outputs": [],
   "source": [
    "llm= ChatOpenAI(model_name='gpt-3.5-turbo')\n",
    "prompt= ChatPromptTemplate.from_messages(\n",
    "    [\n",
    "        (\"system\", \"you are a World class prompt creator for Gen AI applications. You will create prompts for requested use case and provide example for that prompyt\"),\n",
    "        (\"user\", \"{input}\")\n",
    "    ]\n",
    ")\n",
    "output_parser= StrOutputParser()\n",
    "chain= prompt | llm | output_parser"
   ]
  },
  {
   "cell_type": "code",
   "execution_count": null,
   "metadata": {},
   "outputs": [],
   "source": [
    "from langchain.prompts import ChatPromptTemplate\n",
    "llm= ChatOpenAI(model_name='gpt-3.5-turbo')\n",
    "template = \"\"\"\n",
    "You are collecting details to create certificate mentioned below along with the list of details required from user\n",
    "when a particular certificate details are asked then you have to respond the details required\n",
    "to generate the certificate.\n",
    "\n",
    "Below are the types of certificates\n",
    "\n",
    "Employee certificate:\n",
    "1. Full Name:\n",
    "2. Position/Job Title:\n",
    "3. Department:\n",
    "4. Date of Joining (YYYY-MM-DD):\n",
    "5. Employee ID:\n",
    "\n",
    "Company certificate:\n",
    "6. Company Name:\n",
    "7. Company Address:\n",
    "8. Company Contact Information:\n",
    "   - Phone:\n",
    "   - Email:\n",
    "\n",
    "insurance certificate:\n",
    "9. Date of Issuance (YYYY-MM-DD):\n",
    "10. Purpose of Certificate (e.g., for bank loan, visa application, etc.):\n",
    "11. Additional Information (if any):\n",
    "\n",
    "Authorized certificate:\n",
    "12. Name:\n",
    "13. Position:\n",
    "14. Signature (if applicable):\n",
    "\n",
    "\n",
    "Please provide each detail one by one in the given order. If you have any questions or need clarification, feel free to ask!\n",
    "\"\"\"\n",
    "\n",
    "chat_prompt_template = ChatPromptTemplate.from_template(template)\n",
    "output_parser= StrOutputParser()\n",
    "chain= chat_prompt_template | llm | output_parser\n"
   ]
  },
  {
   "cell_type": "code",
   "execution_count": null,
   "metadata": {},
   "outputs": [],
   "source": [
    "pprint(chain.invoke({\"input\": \"I want to company Employee certificate, Can you list what are the details required?\"}))"
   ]
  },
  {
   "cell_type": "code",
   "execution_count": null,
   "metadata": {},
   "outputs": [],
   "source": []
  },
  {
   "cell_type": "code",
   "execution_count": null,
   "metadata": {},
   "outputs": [],
   "source": []
  },
  {
   "cell_type": "code",
   "execution_count": null,
   "metadata": {},
   "outputs": [],
   "source": [
    "from langchain.chains import ConversationChain\n",
    "from langchain.memory import ConversationBufferMemory\n",
    "from langchain_openai import OpenAI\n",
    "\n",
    "llm = OpenAI(temperature=0)"
   ]
  },
  {
   "cell_type": "code",
   "execution_count": 93,
   "metadata": {},
   "outputs": [],
   "source": [
    "template = \"\"\"\n",
    "You are collecting details to create certificate mentioned below along with the list of details required from user\n",
    "when a particular certificate details are asked then you have to respond the details required\n",
    "to generate the certificate.\n",
    "\n",
    "Below are the types of certificates\n",
    "\n",
    "Employee certificate:\n",
    "1. Full Name:\n",
    "2. Position/Job Title:\n",
    "3. Department:\n",
    "4. Date of Joining (YYYY-MM-DD):\n",
    "5. Employee ID:\n",
    "\n",
    "Company certificate:\n",
    "6. Company Name:\n",
    "7. Company Address:\n",
    "8. Company Contact Information:\n",
    "   - Phone:\n",
    "   - Email:\n",
    "\n",
    "insurance certificate:\n",
    "9. Date of Issuance (YYYY-MM-DD):\n",
    "10. Purpose of Certificate (e.g., for bank loan, visa application, etc.):\n",
    "11. Additional Information (if any):\n",
    "\n",
    "Authorized certificate:\n",
    "12. Name:\n",
    "13. Position:\n",
    "14. Signature (if applicable):\n",
    "\n",
    "Kindly follow below rules when conversing with the user:\n",
    "1. Kindly ask which certificate is needed to generate.\n",
    "2. Provide list of details that are required when a certificate is mentioned and add human touch when providing.\n",
    "3. If all the details are not provided kindly ask to provide all the details untill they provide everything related to certificate.\n",
    "4. Provide him the summary of provided inputs and ask for remaining if there are any pending values that are required.\n",
    "If all the necessary values are provided then covert the result in url format with prefix https://certificates/certificate name/certificate details seperated by '/'.\n",
    "\n",
    "Please provide each detail one by one in the given order. If you have any questions or need clarification, feel free to ask!\n",
    "\n",
    "Current conversation:\n",
    "{history}\n",
    "Friend: {input}\n",
    "AI:\n",
    "\"\"\"\n"
   ]
  },
  {
   "cell_type": "code",
   "execution_count": 87,
   "metadata": {},
   "outputs": [],
   "source": [
    "template = \"\"\" You are certificate generator expert.\n",
    "You are collect details to create certificate mentioned below along with the list of details required from user\n",
    "when a particular certificate details are asked then you have to respond the details required\n",
    "to generate the certificate.\n",
    "\n",
    "Below are the types of certificates\n",
    "\n",
    "\n",
    "\n",
    "Employment Resignation:\n",
    "This certificate generates resignation details of employee. If language is German then Formular id= ARB_AUS else Formular id= ARB_AUS_EN and generates certificate provided below information:\n",
    "1. Employee Id: \n",
    "2. Bv Number:\n",
    "3. Effective Date (YYYY-MM-DD):\n",
    "4. Language (English or German): \n",
    "\n",
    "If all the necessary values are provided then covert the result in url format with prefix https://certificates/certificate name/certificate details seperated by '/'.\n",
    "\n",
    "\n",
    "Employment details:\n",
    "This certificate generates employment details of employee requested. If language is German then Formular id= ARB_ESS else Formular id= ARB_ESS_EN and generates certificate provided below information:\n",
    "1. Employee Id: \n",
    "2. Bv Number:\n",
    "3. Effective Date (YYYY-MM-DD):\n",
    "4. Language (English or German): \n",
    "   \n",
    "If all the necessary values are provided then covert the result in url format with prefix https://certificates/certificate name/certificate details seperated by '/'.\n",
    "\n",
    "\n",
    "Kindly follow below rules when conversing with the user:\n",
    "1. Behave politely.\n",
    "1. Kindly ask which certificate is needed to generate.\n",
    "2. Provide list of details that are required when a certificate is mentioned and add human touch when providing.\n",
    "3. If all the details are not provided for certificate type, ask to provide all the details untill they provide everything related to certificate.\n",
    "4. Collect inputs from history if provided and repond with the summary of inputs provided and ask and show for remaining if there are any pending values that are required.\n",
    "5. Once all the details are provided, respond with summary of input details and ask for confirmation to generate certificate. \n",
    "\n",
    "Please provide each detail one by one in the given order. If you have any questions or need clarification, feel free to ask!\n",
    "\n",
    "Current conversation:\n",
    "{history}\n",
    "Friend: {input}\n",
    "AI:\n",
    "\"\"\"\n"
   ]
  },
  {
   "cell_type": "code",
   "execution_count": 94,
   "metadata": {},
   "outputs": [],
   "source": [
    "# Now we can override it and set it to \"Friend\"\n",
    "from langchain_core.prompts.prompt import PromptTemplate\n",
    "\n",
    "'''template = \"\"\"The following is a friendly conversation between a human and an AI. The AI is talkative and provides lots of specific details from its context. If the AI does not know the answer to a question, it truthfully says it does not know.\n",
    "\n",
    "Current conversation:\n",
    "{history}\n",
    "Friend: {input}\n",
    "AI:\"\"\"'''\n",
    "PROMPT = PromptTemplate(input_variables=[\"history\", \"input\"], template=template)\n",
    "conversation = ConversationChain(\n",
    "    prompt=PROMPT,\n",
    "    llm=llm,\n",
    "    verbose=False,\n",
    "    memory=ConversationBufferMemory(ai_prefix=\"AI Assistant\"),\n",
    ")"
   ]
  },
  {
   "cell_type": "code",
   "execution_count": 89,
   "metadata": {},
   "outputs": [
    {
     "name": "stdout",
     "output_type": "stream",
     "text": [
      "'Hi there! Which certificate do you need to generate?'\n"
     ]
    }
   ],
   "source": [
    "pprint(conversation.predict(input=\"Hi there!\"))"
   ]
  },
  {
   "cell_type": "code",
   "execution_count": 68,
   "metadata": {},
   "outputs": [
    {
     "name": "stdout",
     "output_type": "stream",
     "text": [
      "('There are two types of certificates available: Employment Resignation and '\n",
      " 'Employment Details. Which one would you like to generate?')\n"
     ]
    }
   ],
   "source": [
    "pprint(conversation.predict(input=\"How many types of certificates are available?\"))"
   ]
  },
  {
   "cell_type": "code",
   "execution_count": 69,
   "metadata": {},
   "outputs": [
    {
     "name": "stdout",
     "output_type": "stream",
     "text": [
      "('Sure! To generate an Employment Resignation certificate, I will need the '\n",
      " 'following details from you: Employee Id, Bv Number, Effective Date '\n",
      " '(YYYY-MM-DD), and Language (English or German). Please provide each detail '\n",
      " 'one by one in the given order. If you have any questions or need '\n",
      " 'clarification, feel free to ask!')\n"
     ]
    }
   ],
   "source": [
    "pprint(conversation.predict(input=\"Can you provide Employment resignation certificate?\"))"
   ]
  },
  {
   "cell_type": "code",
   "execution_count": 70,
   "metadata": {},
   "outputs": [
    {
     "name": "stdout",
     "output_type": "stream",
     "text": [
      "('Thank you for providing the details! Just to confirm, the Employee Id is '\n",
      " '1234, the Bv Number is 0, the Effective Date is 01-jan-2024, and the '\n",
      " 'Language is German. Is there anything else I can assist you with?')\n"
     ]
    }
   ],
   "source": [
    "pprint(conversation.predict(input=\"Employee id: 1234, Bv number is 0, Effective date is 01-jan-2024 and language is Germant\"))"
   ]
  },
  {
   "cell_type": "code",
   "execution_count": 71,
   "metadata": {},
   "outputs": [
    {
     "name": "stdout",
     "output_type": "stream",
     "text": [
      "('Great! I have all the necessary details to generate the Employment '\n",
      " 'Resignation certificate. The url format for this certificate is '\n",
      " 'https://certificates/Employment Resignation/1234/0/01-jan-2024/German. Would '\n",
      " 'you like me to proceed with generating the certificate?')\n"
     ]
    }
   ],
   "source": [
    "pprint(conversation.predict(input=\"No\"))"
   ]
  },
  {
   "cell_type": "code",
   "execution_count": 72,
   "metadata": {},
   "outputs": [
    {
     "name": "stdout",
     "output_type": "stream",
     "text": [
      "('Thank you for confirming! Your Employment Resignation certificate has been '\n",
      " 'successfully generated. Is there anything else I can assist you with?')\n"
     ]
    }
   ],
   "source": [
    "pprint(conversation.predict(input=\"Yes, you can generate the letter\"))"
   ]
  },
  {
   "cell_type": "code",
   "execution_count": 95,
   "metadata": {},
   "outputs": [
    {
     "name": "stdout",
     "output_type": "stream",
     "text": [
      "('\\n'\n",
      " 'Sure, I can help you generate an employment certificate. Can you please '\n",
      " 'provide the following details in order to create the certificate?\\n'\n",
      " '\\n'\n",
      " '1. Full Name:\\n'\n",
      " '2. Position/Job Title:\\n'\n",
      " '3. Department:\\n'\n",
      " '4. Date of Joining (YYYY-MM-DD):\\n'\n",
      " '5. Employee ID:\\n'\n",
      " '\\n'\n",
      " 'Once you have provided all the necessary details, I will generate the '\n",
      " 'certificate for you. If you have any questions or need clarification, feel '\n",
      " 'free to ask!')\n"
     ]
    }
   ],
   "source": [
    "pprint(conversation.predict(input=\"Generate employment certificate\"))"
   ]
  },
  {
   "cell_type": "code",
   "execution_count": 96,
   "metadata": {},
   "outputs": [
    {
     "name": "stdout",
     "output_type": "stream",
     "text": [
      "(\"I'm sorry, I cannot generate the certificate with incomplete information. \"\n",
      " 'Can you please provide the following details in order to create the '\n",
      " 'certificate?\\n'\n",
      " '\\n'\n",
      " '1. Full Name:\\n'\n",
      " '2. Position/Job Title:\\n'\n",
      " '3. Department:\\n'\n",
      " '4. Date of Joining (YYYY-MM-DD):\\n'\n",
      " '5. Employee ID:')\n"
     ]
    }
   ],
   "source": [
    "pprint(conversation.predict(input=\"Employe id: 1234 and name is vikas\"))"
   ]
  },
  {
   "cell_type": "code",
   "execution_count": 92,
   "metadata": {},
   "outputs": [
    {
     "name": "stdout",
     "output_type": "stream",
     "text": [
      "('Thank you for providing the Bv Number and Language. May I have the Employee '\n",
      " 'Id and Effective Date (YYYY-MM-DD) as well?')\n"
     ]
    }
   ],
   "source": [
    "pprint(conversation.predict(input=\"Bv Number is zero and language is German\"))"
   ]
  },
  {
   "cell_type": "code",
   "execution_count": 97,
   "metadata": {},
   "outputs": [
    {
     "name": "stdout",
     "output_type": "stream",
     "text": [
      "(\"I'm sorry, I cannot generate the certificate with incomplete information. \"\n",
      " 'Can you please provide the following details in order to create the '\n",
      " 'certificate?\\n'\n",
      " '\\n'\n",
      " '1. Full Name:\\n'\n",
      " '2. Position/Job Title:\\n'\n",
      " '3. Department:\\n'\n",
      " '4. Date of Joining (YYYY-MM-DD):\\n'\n",
      " '5. Employee ID:')\n"
     ]
    }
   ],
   "source": [
    "pprint(conversation.predict(input=\"Employe id: 1234\"))"
   ]
  },
  {
   "cell_type": "code",
   "execution_count": null,
   "metadata": {},
   "outputs": [],
   "source": []
  }
 ],
 "metadata": {
  "kernelspec": {
   "display_name": "data_privacy",
   "language": "python",
   "name": "python3"
  },
  "language_info": {
   "codemirror_mode": {
    "name": "ipython",
    "version": 3
   },
   "file_extension": ".py",
   "mimetype": "text/x-python",
   "name": "python",
   "nbconvert_exporter": "python",
   "pygments_lexer": "ipython3",
   "version": "3.10.13"
  }
 },
 "nbformat": 4,
 "nbformat_minor": 2
}
