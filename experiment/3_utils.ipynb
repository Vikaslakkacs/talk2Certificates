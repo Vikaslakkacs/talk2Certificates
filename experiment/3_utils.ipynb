{
 "cells": [
  {
   "cell_type": "code",
   "execution_count": 4,
   "metadata": {},
   "outputs": [],
   "source": [
    "import yaml\n",
    "import json\n",
    "from pprint import pprint"
   ]
  },
  {
   "cell_type": "code",
   "execution_count": 34,
   "metadata": {},
   "outputs": [
    {
     "name": "stdout",
     "output_type": "stream",
     "text": [
      "[{'Name': 'Employment Resignation',\n",
      "  'input_parameters': ['Employee ID',\n",
      "                       'BV number',\n",
      "                       'Effective date',\n",
      "                       'Language']},\n",
      " {'Name': 'Employment Details',\n",
      "  'input_parameters': ['Employee ID',\n",
      "                       'BV number',\n",
      "                       'Effective date',\n",
      "                       'Language']}]\n"
     ]
    }
   ],
   "source": [
    "file_path= \"/Users/vikaslakka/Desktop/FSDS/GenAI/poc/talk2cert/talk2Certificates/letter_configuration.yaml\"\n",
    "\n",
    "with open(file_path, 'r') as yaml_in:\n",
    "    yaml_object = list(yaml.load_all(yaml_in, Loader=yaml.SafeLoader))\n",
    "    pprint(yaml_object)"
   ]
  },
  {
   "cell_type": "code",
   "execution_count": null,
   "metadata": {},
   "outputs": [],
   "source": []
  }
 ],
 "metadata": {
  "kernelspec": {
   "display_name": "data_privacy",
   "language": "python",
   "name": "python3"
  },
  "language_info": {
   "codemirror_mode": {
    "name": "ipython",
    "version": 3
   },
   "file_extension": ".py",
   "mimetype": "text/x-python",
   "name": "python",
   "nbconvert_exporter": "python",
   "pygments_lexer": "ipython3",
   "version": "3.1.-1"
  }
 },
 "nbformat": 4,
 "nbformat_minor": 2
}
